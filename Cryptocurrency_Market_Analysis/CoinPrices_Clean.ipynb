{
  "nbformat": 4,
  "nbformat_minor": 0,
  "metadata": {
    "colab": {
      "provenance": [],
      "include_colab_link": true
    },
    "kernelspec": {
      "name": "python3",
      "display_name": "Python 3"
    },
    "language_info": {
      "name": "python"
    }
  },
  "cells": [
    {
      "cell_type": "markdown",
      "metadata": {
        "id": "view-in-github",
        "colab_type": "text"
      },
      "source": [
        "<a href=\"https://colab.research.google.com/github/longnguyen08/DA_Projects/blob/master/Cryptocurrency_Market_Analysis/CoinPrices_Clean.ipynb\" target=\"_parent\"><img src=\"https://colab.research.google.com/assets/colab-badge.svg\" alt=\"Open In Colab\"/></a>"
      ]
    },
    {
      "cell_type": "code",
      "execution_count": null,
      "metadata": {
        "id": "WfiSv6ptndgd"
      },
      "outputs": [],
      "source": [
        "import pandas as pd"
      ]
    },
    {
      "cell_type": "code",
      "source": [
        "cp = pd.read_csv('/content/CoinPrices.csv')"
      ],
      "metadata": {
        "id": "yr3K9a4epx-n"
      },
      "execution_count": null,
      "outputs": []
    },
    {
      "cell_type": "code",
      "source": [
        "cp.info()"
      ],
      "metadata": {
        "colab": {
          "base_uri": "https://localhost:8080/"
        },
        "id": "nUYLDAGHp3Un",
        "outputId": "65f036ce-dca0-4e4e-ca52-ea33da24fefc"
      },
      "execution_count": null,
      "outputs": [
        {
          "output_type": "stream",
          "name": "stdout",
          "text": [
            "<class 'pandas.core.frame.DataFrame'>\n",
            "RangeIndex: 826697 entries, 0 to 826696\n",
            "Data columns (total 12 columns):\n",
            " #   Column      Non-Null Count   Dtype  \n",
            "---  ------      --------------   -----  \n",
            " 0   Unnamed: 0  826697 non-null  int64  \n",
            " 1   Date        826693 non-null  object \n",
            " 2   Open.       826697 non-null  object \n",
            " 3   High        825966 non-null  float64\n",
            " 4   Low         826051 non-null  float64\n",
            " 5   Close..     826697 non-null  object \n",
            " 6   Volume      826697 non-null  object \n",
            " 7   Market.Cap  826697 non-null  object \n",
            " 8   coin        826697 non-null  object \n",
            " 9   Open        826004 non-null  float64\n",
            " 10  Close       826006 non-null  float64\n",
            " 11  Delta       825980 non-null  float64\n",
            "dtypes: float64(5), int64(1), object(6)\n",
            "memory usage: 75.7+ MB\n"
          ]
        }
      ]
    },
    {
      "cell_type": "code",
      "source": [
        "cp_xoa = cp.iloc[:,9:12]"
      ],
      "metadata": {
        "id": "mrV99tgsp7yp"
      },
      "execution_count": null,
      "outputs": []
    },
    {
      "cell_type": "code",
      "source": [
        "cp = cp.drop(cp_xoa, axis = 1)"
      ],
      "metadata": {
        "id": "9CybpUoEp-ER"
      },
      "execution_count": null,
      "outputs": []
    },
    {
      "cell_type": "code",
      "source": [
        "cp = cp.drop('Unnamed: 0', axis = 1)"
      ],
      "metadata": {
        "id": "8KI_w7eRqA3D"
      },
      "execution_count": null,
      "outputs": []
    },
    {
      "cell_type": "code",
      "source": [
        "cp.info()"
      ],
      "metadata": {
        "colab": {
          "base_uri": "https://localhost:8080/"
        },
        "id": "Fh30zU7FqJX6",
        "outputId": "9eb6e082-721c-4b1c-88f1-76eda6266f56"
      },
      "execution_count": null,
      "outputs": [
        {
          "output_type": "stream",
          "name": "stdout",
          "text": [
            "<class 'pandas.core.frame.DataFrame'>\n",
            "RangeIndex: 826697 entries, 0 to 826696\n",
            "Data columns (total 8 columns):\n",
            " #   Column      Non-Null Count   Dtype  \n",
            "---  ------      --------------   -----  \n",
            " 0   Date        826693 non-null  object \n",
            " 1   Open.       826697 non-null  object \n",
            " 2   High        825966 non-null  float64\n",
            " 3   Low         826051 non-null  float64\n",
            " 4   Close..     826697 non-null  object \n",
            " 5   Volume      826697 non-null  object \n",
            " 6   Market.Cap  826697 non-null  object \n",
            " 7   coin        826697 non-null  object \n",
            "dtypes: float64(2), object(6)\n",
            "memory usage: 50.5+ MB\n"
          ]
        }
      ]
    },
    {
      "cell_type": "code",
      "source": [
        "cp = cp.rename(columns={'Open.' : 'Open', 'Close..' : 'Close', 'Market.Cap': 'MarketCap', 'coin': 'CoinName'})"
      ],
      "metadata": {
        "id": "D-yiWJL-qKaQ"
      },
      "execution_count": null,
      "outputs": []
    },
    {
      "cell_type": "code",
      "source": [
        "print(cp['Date'].unique())\n",
        "print(cp['Open'].unique())\n",
        "print(cp['High'].unique())\n",
        "print(cp['Low'].unique())\n",
        "print(cp['Close'].unique())\n",
        "print(cp['Volume'].unique())\n",
        "print(cp['MarketCap'].unique())\n",
        "print(cp['CoinName'].unique())"
      ],
      "metadata": {
        "id": "B23G7AZyqQNe"
      },
      "execution_count": null,
      "outputs": []
    },
    {
      "cell_type": "code",
      "source": [
        "cp.isnull().sum()"
      ],
      "metadata": {
        "colab": {
          "base_uri": "https://localhost:8080/"
        },
        "id": "u_X9JhQDqQ_X",
        "outputId": "15137689-431b-477a-8ac6-ad53bc6c7665"
      },
      "execution_count": null,
      "outputs": [
        {
          "output_type": "execute_result",
          "data": {
            "text/plain": [
              "Date           4\n",
              "Open           0\n",
              "High         731\n",
              "Low          646\n",
              "Close          0\n",
              "Volume         0\n",
              "MarketCap      0\n",
              "CoinName       0\n",
              "dtype: int64"
            ]
          },
          "metadata": {},
          "execution_count": 10
        }
      ]
    },
    {
      "cell_type": "code",
      "source": [
        "cp= cp.dropna()"
      ],
      "metadata": {
        "id": "Wk6swZUnqVVl"
      },
      "execution_count": null,
      "outputs": []
    },
    {
      "cell_type": "code",
      "source": [
        "cp.isnull().sum()"
      ],
      "metadata": {
        "colab": {
          "base_uri": "https://localhost:8080/"
        },
        "id": "WwX1u21eqV-a",
        "outputId": "6227c8b1-c435-4a2b-a2d4-2c2239d10e43"
      },
      "execution_count": null,
      "outputs": [
        {
          "output_type": "execute_result",
          "data": {
            "text/plain": [
              "Date         0\n",
              "Open         0\n",
              "High         0\n",
              "Low          0\n",
              "Close        0\n",
              "Volume       0\n",
              "MarketCap    0\n",
              "CoinName     0\n",
              "dtype: int64"
            ]
          },
          "metadata": {},
          "execution_count": 10
        }
      ]
    },
    {
      "cell_type": "code",
      "source": [
        "cp['Date']= pd.to_datetime(cp['Date'])"
      ],
      "metadata": {
        "id": "l9rj7Nr4qY0O"
      },
      "execution_count": null,
      "outputs": []
    },
    {
      "cell_type": "code",
      "source": [
        "cp.info()"
      ],
      "metadata": {
        "colab": {
          "base_uri": "https://localhost:8080/"
        },
        "id": "kcy1ExpxrDVU",
        "outputId": "3bc1ec40-cdd5-41ff-eedf-e3e73fbb2a6f"
      },
      "execution_count": null,
      "outputs": [
        {
          "output_type": "stream",
          "name": "stdout",
          "text": [
            "<class 'pandas.core.frame.DataFrame'>\n",
            "Int64Index: 825966 entries, 0 to 826696\n",
            "Data columns (total 8 columns):\n",
            " #   Column     Non-Null Count   Dtype         \n",
            "---  ------     --------------   -----         \n",
            " 0   Date       825966 non-null  datetime64[ns]\n",
            " 1   Open       825966 non-null  object        \n",
            " 2   High       825966 non-null  float64       \n",
            " 3   Low        825966 non-null  float64       \n",
            " 4   Close      825966 non-null  object        \n",
            " 5   Volume     825966 non-null  object        \n",
            " 6   MarketCap  825966 non-null  object        \n",
            " 7   CoinName   825966 non-null  object        \n",
            "dtypes: datetime64[ns](1), float64(2), object(5)\n",
            "memory usage: 56.7+ MB\n"
          ]
        }
      ]
    },
    {
      "cell_type": "code",
      "source": [
        "cp['Volume'] = cp['Volume'].transform(lambda x: x.replace(',',''))\n",
        "cp['Volume'] = cp['Volume'].transform(lambda x: x.replace('-','0'))\n",
        "cp['Volume'] = cp['Volume'].astype(int)"
      ],
      "metadata": {
        "id": "xNI6-W_PrKNE"
      },
      "execution_count": null,
      "outputs": []
    },
    {
      "cell_type": "code",
      "source": [
        "cp['MarketCap'] = cp['MarketCap'].transform(lambda x: x.replace(',',''))\n",
        "cp['MarketCap'] = cp['MarketCap'].transform(lambda x: x.replace('-','0'))\n",
        "cp['MarketCap'] = cp['MarketCap'].astype(int)"
      ],
      "metadata": {
        "id": "zbx8XFmXr5Y7"
      },
      "execution_count": null,
      "outputs": []
    },
    {
      "cell_type": "code",
      "source": [
        "cp.to_csv('CoinPrices_Clean.csv', index = False)"
      ],
      "metadata": {
        "id": "S1B0pUkztuMI"
      },
      "execution_count": null,
      "outputs": []
    }
  ]
}